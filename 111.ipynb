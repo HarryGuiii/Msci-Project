{
 "cells": [
  {
   "cell_type": "code",
   "execution_count": 87,
   "id": "ab65394b",
   "metadata": {},
   "outputs": [],
   "source": [
    "import numpy as np\n",
    "import random as rd\n",
    "from time import time"
   ]
  },
  {
   "cell_type": "code",
   "execution_count": 93,
   "id": "fc9f4382",
   "metadata": {},
   "outputs": [],
   "source": [
    "class site:\n",
    "    def __init__(self,lattice,x,y,z):\n",
    "        self.x = x\n",
    "        self.y = y\n",
    "        self.z = z\n",
    "        self.lattice = lattice\n",
    "\n",
    "    def setspin(self,s):\n",
    "        self.spin = s\n",
    "    \n",
    "    def setrandomspin(self): # set random spin for this site\n",
    "        self.spin = rd.choice([-1,1]) # set spin = -1 or 1\n",
    "     \n",
    "    def getspin(self):\n",
    "        return self.spin\n",
    "\n",
    "    def flipspin(self):\n",
    "        self.spin *= -1\n",
    "\n",
    "    def getposition(self):\n",
    "        return np.array([self.x,self.y,self.z])\n",
    "\n",
    "    def getzeemanenergy(self,B):\n",
    "        g = 2.0\n",
    "        muB = 5e-2 #mev/T\n",
    "        return -g*muB*self.getspin()*B\n",
    "\n",
    "    def getdeltaexchangeenergy(self,J):\n",
    "        E = 0\n",
    "        NN = self.getnearestneighbourscubic()\n",
    "        for nn in NN:\n",
    "            E += -J*self.spin*nn.spin\n",
    "        return E\n",
    "\n",
    "    def getlistposition(self,x,y,z):\n",
    "        return x*self.lattice.N2*self.lattice.N3 + y*self.lattice.N3 + z\n",
    "\n",
    "    def getnearestneighbourscubic(self):\n",
    "        #i-1 i+1, j-1 j+1, k-1 k+1 with periodic boundary conditions\n",
    "        NN1 = self.lattice.sites[self.getlistposition((self.x-1) % self.lattice.N1, self.y, self.z)]\n",
    "        NN2 = self.lattice.sites[self.getlistposition((self.x+1) % self.lattice.N1, self.y, self.z)]\n",
    "        NN3 = self.lattice.sites[self.getlistposition(self.x, (self.y-1) % self.lattice.N1, self.z)]\n",
    "        NN4 = self.lattice.sites[self.getlistposition(self.x, (self.y+1) % self.lattice.N1, self.z)]\n",
    "        NN5 = self.lattice.sites[self.getlistposition(self.x, self.y, (self.z-1) % self.lattice.N1)]\n",
    "        NN6 = self.lattice.sites[self.getlistposition(self.x, self.y, (self.z+1) % self.lattice.N1)]\n",
    "        return [NN1,NN2,NN3,NN4,NN5,NN6]"
   ]
  },
  {
   "cell_type": "code",
   "execution_count": 88,
   "id": "f4d8e189",
   "metadata": {},
   "outputs": [],
   "source": [
    "class lattice:\n",
    "    def __init__(self,N1,N2,N3):\n",
    "        self.N1 = N1 # Dimension of the lattice\n",
    "        self.N2 = N2\n",
    "        self.N3 = N3\n",
    "        self.sites = [] # Creating a list to take in the information of sites\n",
    "\n",
    "    def populatesites(self):\n",
    "        for i in range(self.N1):\n",
    "            for j in range(self.N2):\n",
    "                for k in range(self.N3):\n",
    "                    self.sites.append(site(lat,i,j,k)) # Assign each site a coordianate\n",
    "\n",
    "    def initialisespins(self): # Set spin for each site\n",
    "        for i in range(self.N1*self.N2*self.N3):\n",
    "            self.sites[i].setrandomspin()\n",
    "    \n",
    "    def gettotalenergy(self,J):\n",
    "        E_t = 0\n",
    "        for i in range(self.N1*self.N2*self.N3):\n",
    "            E_t = E_t + self.sites[i].getdeltaexchangeenergy(J)\n",
    "        E_t = E_t/2\n",
    "        return E_t\n",
    "    \n",
    "    def filprandomspins(self): # input number of moves\n",
    "        #self.filp = np.ones(self.N1*self.N2*self.N3)\n",
    "        #self.filp[rd.randrange(self.N1*self.N2*self.N3)] = -1 # choose a random site to flip\n",
    "        site_f = rd.randrange(self.N1*self.N2*self.N3)\n",
    "        self.sites[site_f].flipspin()\n",
    "    \n",
    "    def checkfilp(self,T_pace,T):\n",
    "        deltaE = site.getdeltaexchangeenergy(self, J)\n",
    "        #accept flip if energy change in temperature range:\n",
    "        if deltaE <= 0 or np.exp(-deltaE/(kB*T))>rd.random():\n",
    "            E += deltaE\n",
    "            T = T_pace*T # decrease temperature\n",
    "        else: # flip back and flip again\n",
    "            self.sites[site_f].flipspin()\n",
    "            self.filprandomspins()\n",
    "    \n",
    "    def MC(self): # Monte carlo model\n",
    "        self.fliprandomspin()\n",
    "        self.chefilp(self,T_pace,T)\n",
    "        \n",
    "        \n",
    "        "
   ]
  },
  {
   "cell_type": "markdown",
   "id": "6ea9ea8c",
   "metadata": {},
   "source": [
    "- Sites\n",
    "\n",
    "- spins\n",
    "\n",
    "- flip \n",
    "\n",
    "- energy\n",
    "\n",
    "- vary nom\n",
    "\n",
    "- energy\n",
    "\n",
    "- 100"
   ]
  },
  {
   "cell_type": "code",
   "execution_count": 89,
   "id": "5ce59667",
   "metadata": {},
   "outputs": [
    {
     "name": "stdout",
     "output_type": "stream",
     "text": [
      "Runtime:  0.002378\n"
     ]
    }
   ],
   "source": [
    "starttime = time()\n",
    "\n",
    "# set up some constants\n",
    "g = 2.0\n",
    "muB = 5.788e-2 # meV/T\n",
    "kB = 8.617e-2 # meV/K\n",
    "MCS = 0\n",
    "T = 200 # K\n",
    "T_pace = 0.92\n",
    "MC_steps = 100\n",
    "\n",
    "# set up the sites\n",
    "lat = lattice(10,10,10) # set up the size of lattice\n",
    "lat.populatesites()     # Assign each site a coordinate\n",
    "lat.initialisespins()   # Assign each site a random spin\n",
    "lat.gettotalenergy(J)    # get the total energy of the system\n",
    "\n",
    "# Repeat\n",
    "\n",
    "lat.fliprandomspin()    # flip random spin\n",
    "lat.checkflip(T_step,T) # check the flip\n",
    "# Record T and E\n",
    "# stop until T falls beyond certain threshold or MC steps\n",
    "\n",
    "# Repeat\n",
    "\n",
    "print (\"Runtime:  %.6f\"  %(time()-starttime))"
   ]
  },
  {
   "cell_type": "code",
   "execution_count": 90,
   "id": "afe35e20",
   "metadata": {
    "scrolled": true
   },
   "outputs": [],
   "source": [
    "site1 = site(lat,1,2,1) "
   ]
  },
  {
   "cell_type": "code",
   "execution_count": 91,
   "id": "07119ccf",
   "metadata": {},
   "outputs": [],
   "source": [
    "site1.getnearestneighbourscubic = a"
   ]
  },
  {
   "cell_type": "code",
   "execution_count": 92,
   "id": "9a362da6",
   "metadata": {},
   "outputs": [
    {
     "name": "stdout",
     "output_type": "stream",
     "text": [
      "[1 2 1]\n"
     ]
    }
   ],
   "source": [
    "print(a)"
   ]
  },
  {
   "cell_type": "code",
   "execution_count": null,
   "id": "ebd15570",
   "metadata": {},
   "outputs": [],
   "source": [
    "\n",
    "self.lattice.sites[ rd.randrange(self.N1*self.N2*self.N3) ]"
   ]
  }
 ],
 "metadata": {
  "kernelspec": {
   "display_name": "Python 3 (ipykernel)",
   "language": "python",
   "name": "python3"
  },
  "language_info": {
   "codemirror_mode": {
    "name": "ipython",
    "version": 3
   },
   "file_extension": ".py",
   "mimetype": "text/x-python",
   "name": "python",
   "nbconvert_exporter": "python",
   "pygments_lexer": "ipython3",
   "version": "3.9.7"
  }
 },
 "nbformat": 4,
 "nbformat_minor": 5
}
