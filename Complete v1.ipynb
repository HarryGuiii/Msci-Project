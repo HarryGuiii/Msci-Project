{
 "cells": [
  {
   "cell_type": "code",
   "execution_count": 1,
   "id": "002cf83e",
   "metadata": {},
   "outputs": [],
   "source": [
    "import numpy as np\n",
    "import random as rd\n",
    "from time import time\n",
    "import matplotlib.pyplot as plt"
   ]
  },
  {
   "cell_type": "code",
   "execution_count": 2,
   "id": "ef333182",
   "metadata": {},
   "outputs": [],
   "source": [
    "class site:\n",
    "    def __init__(self,lattice,x,y,z):\n",
    "        self.x = x\n",
    "        self.y = y\n",
    "        self.z = z\n",
    "        self.lattice = lattice\n",
    "\n",
    "    def setspin(self,s):\n",
    "        self.spin = s\n",
    "    \n",
    "    def setrandomspin(self): # set random spin for this site\n",
    "        self.spin = rd.choice([-1,1]) # set spin = -1 or 1\n",
    "     \n",
    "    def getspin(self):\n",
    "        return self.spin\n",
    "\n",
    "    def flipspin(self):\n",
    "        self.spin *= -1\n",
    "\n",
    "    def getposition(self):\n",
    "        return np.array([self.x,self.y,self.z])\n",
    "\n",
    "    def getzeemanenergy(self,B):\n",
    "        g = 2.0\n",
    "        muB = 5e-2 #mev/T\n",
    "        return -g*muB*self.getspin()*B\n",
    "\n",
    "    def getdeltaexchangeenergy(self,J):\n",
    "        E = 0\n",
    "        NN = self.getnearestneighbourscubic()\n",
    "        for nn in NN:\n",
    "            E += -J*self.spin*nn.spin\n",
    "        return E\n",
    "\n",
    "    def getlistposition(self,x,y,z):\n",
    "        return x*self.lattice.N2*self.lattice.N3 + y*self.lattice.N3 + z\n",
    "\n",
    "    def getnearestneighbourscubic(self):\n",
    "        #i-1 i+1, j-1 j+1, k-1 k+1 with periodic boundary conditions\n",
    "        NN1 = self.lattice.sites[self.getlistposition((self.x-1) % self.lattice.N1, self.y, self.z)]\n",
    "        NN2 = self.lattice.sites[self.getlistposition((self.x+1) % self.lattice.N1, self.y, self.z)]\n",
    "        NN3 = self.lattice.sites[self.getlistposition(self.x, (self.y-1) % self.lattice.N1, self.z)]\n",
    "        NN4 = self.lattice.sites[self.getlistposition(self.x, (self.y+1) % self.lattice.N1, self.z)]\n",
    "        NN5 = self.lattice.sites[self.getlistposition(self.x, self.y, (self.z-1) % self.lattice.N1)]\n",
    "        NN6 = self.lattice.sites[self.getlistposition(self.x, self.y, (self.z+1) % self.lattice.N1)]\n",
    "        return [NN1,NN2,NN3,NN4,NN5,NN6]"
   ]
  },
  {
   "cell_type": "code",
   "execution_count": 3,
   "id": "d56f340e",
   "metadata": {},
   "outputs": [],
   "source": [
    "class lattice:\n",
    "    def __init__(self,N1,N2,N3):\n",
    "        self.N1 = N1 # Dimension of the lattice\n",
    "        self.N2 = N2\n",
    "        self.N3 = N3\n",
    "        self.sites = [] # Creating a list to take in the information of sites\n",
    "\n",
    "    def populatesites(self):\n",
    "        for i in range(self.N1):\n",
    "            for j in range(self.N2):\n",
    "                for k in range(self.N3):\n",
    "                    self.sites.append(site(lat,i,j,k)) # Assign each site a coordianate\n",
    "\n",
    "    def initialisespins(self): # Set spin for each site\n",
    "        for i in range(self.N1*self.N2*self.N3):\n",
    "            self.sites[i].setrandomspin()\n",
    "    \n",
    "    def gettotalenergy(self,J):\n",
    "        E_t = 0\n",
    "        for i in range(self.N1*self.N2*self.N3):\n",
    "            E_t = E_t + self.sites[i].getdeltaexchangeenergy(J)\n",
    "        E_t = abs(E_t/2)\n",
    "        return E_t\n",
    "    \n",
    "    def filprandomspins(self): # input number of moves\n",
    "        #self.filp = np.ones(self.N1*self.N2*self.N3)\n",
    "        #self.filp[rd.randrange(self.N1*self.N2*self.N3)] = -1 # choose a random site to flip\n",
    "        site_f = rd.randrange(self.N1*self.N2*self.N3)\n",
    "        self.sites[site_f].flipspin()\n",
    "        return site_f\n",
    "    \n",
    "    def checkfilp(self,E,J,T_pace,T,site_f):\n",
    "        deltaE = self.sites[site_f].getdeltaexchangeenergy(J)\n",
    "        #accept flip if energy change in temperature range:\n",
    "        if deltaE <= 0 or np.exp(-deltaE/(kB*T))>rd.random():\n",
    "            E += deltaE\n",
    "            T = T_pace*T # decrease temperature\n",
    "        else: # flip back\n",
    "            self.sites[site_f].flipspin()\n",
    "        return T,E\n",
    "    \n",
    "    def MC(self,E_t,MCS,J,T_pace,T_start): # Monte carlo model\n",
    "        T_plot = np.zeros(MCS) # setup \n",
    "        E_plot = np.zeros(MCS) # setup\n",
    "        T = T_start\n",
    "        E = E_t\n",
    "        i = 0\n",
    "        #for i in range(MCS):\n",
    "        while MCS > 0:\n",
    "            site_f = self.filprandomspins()\n",
    "            deltaE = self.sites[site_f].getdeltaexchangeenergy(J)\n",
    "            #print(\"deltaE = \", deltaE)\n",
    "            if deltaE <= 0 or np.exp(-deltaE/(kB*T))>rd.random():\n",
    "                E += deltaE\n",
    "                T = T_pace*T # decrease temperature\n",
    "                T_plot[i] = T\n",
    "                E_plot[i] = E\n",
    "                i = i+1\n",
    "                MCS = MCS-1\n",
    "                #print(\"E = \", E)\n",
    "                #print(\"T = \", T)\n",
    "                #print(\"MCS = \", MCS)\n",
    "            else:\n",
    "                self.sites[site_f].flipspin()\n",
    "        \n",
    "        return T_plot,E_plot"
   ]
  },
  {
   "cell_type": "markdown",
   "id": "ff112860",
   "metadata": {},
   "source": [
    "- Sites\n",
    "\n",
    "- spins\n",
    "\n",
    "- flip \n",
    "\n",
    "- energy\n",
    "\n",
    "- vary nom\n",
    "\n",
    "- energy\n",
    "\n",
    "- 100"
   ]
  },
  {
   "cell_type": "code",
   "execution_count": 4,
   "id": "357e0b99",
   "metadata": {},
   "outputs": [
    {
     "name": "stdout",
     "output_type": "stream",
     "text": [
      "12400.0\n",
      "Runtime:  0.006695\n"
     ]
    }
   ],
   "source": [
    "starttime = time()\n",
    "\n",
    "# set up some constants\n",
    "g = 2.0\n",
    "muB = 5.788e-2 # meV/T\n",
    "kB = 8.617e-2 # meV/K\n",
    "T_start = 200 # K\n",
    "T_pace = 0.92\n",
    "MCS = 100\n",
    "J = 100 # +ve is FM, -ve is AFM, units meV\n",
    "\n",
    "# set up the sites\n",
    "lat = lattice(10,10,10) # set up the size of lattice\n",
    "lat.populatesites()     # Assign each site a coordinate\n",
    "lat.initialisespins()   # Assign each site a random spin\n",
    "E_t = lat.gettotalenergy(J)    # get the total energy of the system\n",
    "print(E_t)\n",
    "T,E = lat.MC(E_t,MCS,J,T_pace,T_start)\n",
    "# Repeat\n",
    "\n",
    "#lat.fliprandomspin()    # flip random spin\n",
    "#lat.checkflip(T_step,T) # check the flip\n",
    "# Record T and E\n",
    "# stop until T falls beyond certain threshold or MC steps\n",
    "\n",
    "# Repeat\n",
    "\n",
    "print (\"Runtime:  %.6f\"  %(time()-starttime))"
   ]
  },
  {
   "cell_type": "code",
   "execution_count": 5,
   "id": "9853db67",
   "metadata": {},
   "outputs": [
    {
     "data": {
      "image/png": "[encoded data removed]",
      "text/plain": [
       "<Figure size 432x288 with 1 Axes>"
      ]
     },
     "metadata": {
      "needs_background": "light"
     },
     "output_type": "display_data"
    }
   ],
   "source": [
    "MCS_p = np.arange(0,100)\n",
    "plt.close('all')\n",
    "plt.figure()\n",
    "plt.plot(MCS_p,T,'ok')\n",
    "plt.xlabel('MC steps')\n",
    "plt.ylabel('Temperature')\n",
    "#plt.xlim([0,120])\n",
    "#plt.ylim([-0.25,0.05])\n",
    "plt.show()"
   ]
  },
  {
   "cell_type": "code",
   "execution_count": 6,
   "id": "14da06ff",
   "metadata": {},
   "outputs": [
    {
     "data": {
      "image/png": "[encoded data removed]",
      "text/plain": [
       "<Figure size 432x288 with 1 Axes>"
      ]
     },
     "metadata": {
      "needs_background": "light"
     },
     "output_type": "display_data"
    }
   ],
   "source": [
    "MCS_p = np.arange(0,100)\n",
    "plt.close('all')\n",
    "plt.figure()\n",
    "plt.plot(MCS_p,E,'ok')\n",
    "plt.xlabel('MC Steps')\n",
    "plt.ylabel('Energy')\n",
    "#plt.xlim([0,120])\n",
    "#plt.ylim([-0.25,0.05])\n",
    "plt.show()"
   ]
  },
  {
   "cell_type": "code",
   "execution_count": null,
   "id": "1d00bdc4",
   "metadata": {},
   "outputs": [],
   "source": []
  }
 ],
 "metadata": {
  "kernelspec": {
   "display_name": "Python 3 (ipykernel)",
   "language": "python",
   "name": "python3"
  },
  "language_info": {
   "codemirror_mode": {
    "name": "ipython",
    "version": 3
   },
   "file_extension": ".py",
   "mimetype": "text/x-python",
   "name": "python",
   "nbconvert_exporter": "python",
   "pygments_lexer": "ipython3",
   "version": "3.9.7"
  }
 },
 "nbformat": 4,
 "nbformat_minor": 5
}
