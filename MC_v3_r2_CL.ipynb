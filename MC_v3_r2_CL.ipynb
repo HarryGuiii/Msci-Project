{
 "cells": [
  {
   "cell_type": "code",
   "execution_count": 11,
   "id": "a681aef5",
   "metadata": {},
   "outputs": [],
   "source": [
    "import random as rd\n",
    "import numpy as np\n",
    "from time import time\n",
    "import matplotlib.pyplot as plt"
   ]
  },
  {
   "cell_type": "code",
   "execution_count": 12,
   "id": "bafbce71",
   "metadata": {},
   "outputs": [],
   "source": [
    "class site:\n",
    "    def __init__(self,lattice,x,y,z):\n",
    "        self.x = x\n",
    "        self.y = y\n",
    "        self.z = z\n",
    "        self.lattice = lattice\n",
    "\n",
    "    def setspin(self,s):\n",
    "        self.spin = s\n",
    "    \n",
    "    def setrandomspin(self): # set random spin for this site\n",
    "        self.spin = rd.choice([-1,1]) # set spin = -1 or 1\n",
    "     \n",
    "    def getspin(self):\n",
    "        return self.spin\n",
    "\n",
    "    def flipspin(self):\n",
    "        self.spin *= -1\n",
    "\n",
    "    def getposition(self):\n",
    "        return np.array([self.x,self.y,self.z])\n",
    "\n",
    "    def getzeemanenergy(self,B):\n",
    "        return -g*muB*self.getspin()*B\n",
    "\n",
    "    def getexchangeenergy(self, J):\n",
    "        '''\n",
    "        This is a very similar method to the ones you wrote below, but just calculates the exchange energy of all exchange interactions involving the site, not the change.\n",
    "        Accordingly we have not multiplied by 2. We can use this to calculate the changes in energy at a later point, in the MC algorithm itself. We can also use this to \n",
    "        calculate the total lattice energy \n",
    "        '''\n",
    "        E = 0\n",
    "        NN = self.getnearestneighbourscubic()\n",
    "        for nn in NN:\n",
    "            E += -J*self.spin*nn.spin\n",
    "        return E\n",
    "        \n",
    "\n",
    "    def getdeltaexchangeenergy(self,J):\n",
    "        # This function is fine, but will only work for Ising-like spins (i.e. just 2 possible states). The reason is because you need no prior information to know what the state \n",
    "        # before was, and therefore working out the change in energy is easy (every positive contribution to energy turns into a negative and vice versa). This will not be the \n",
    "        # case for orbitals, which will be able to take 3 states, so you will need to explicitly use the pre-flipped state in calculating your answer. It will also not be the case \n",
    "        # more spin models, and certainly not for heisenberg spins (freely rotating in 3 dimensions).    \n",
    "        E = 0\n",
    "        NN = self.getnearestneighbourscubic()\n",
    "        for nn in NN:\n",
    "            E += -J*self.spin*nn.spin\n",
    "        E *= 2 # You forgot to multiply by 2 here\n",
    "        return E\n",
    "    \n",
    "    def getdeltaenergy(self,J,g,muB,B):\n",
    "        # \n",
    "        E = 0\n",
    "        NN = self.getnearestneighbourscubic()\n",
    "        for nn in NN:\n",
    "            E += -J*self.spin*nn.spin\n",
    "        E += g*muB*B*self.spin\n",
    "        E *= 2\n",
    "        return E\n",
    "    \n",
    "    def getsiteenergy(self,J,B):\n",
    "        E = 0 \n",
    "        E += self.getexchangeenergy(J)\n",
    "        E += g*muB*B*self.spin\n",
    "        return E\n",
    "    \n",
    "    \n",
    "    def getlistposition(self,x,y,z):\n",
    "        return x*self.lattice.N2*self.lattice.N3 + y*self.lattice.N3 + z\n",
    "\n",
    "    def getnearestneighbourscubic(self):\n",
    "        #i-1 i+1, j-1 j+1, k-1 k+1 with periodic boundary conditions\n",
    "        NN1 = self.lattice.sites[self.getlistposition((self.x-1) % self.lattice.N1, self.y, self.z)]\n",
    "        NN2 = self.lattice.sites[self.getlistposition((self.x+1) % self.lattice.N1, self.y, self.z)]\n",
    "        NN3 = self.lattice.sites[self.getlistposition(self.x, (self.y-1) % self.lattice.N1, self.z)]\n",
    "        NN4 = self.lattice.sites[self.getlistposition(self.x, (self.y+1) % self.lattice.N1, self.z)]\n",
    "        NN5 = self.lattice.sites[self.getlistposition(self.x, self.y, (self.z-1) % self.lattice.N1)]\n",
    "        NN6 = self.lattice.sites[self.getlistposition(self.x, self.y, (self.z+1) % self.lattice.N1)]\n",
    "        return [NN1,NN2,NN3,NN4,NN5,NN6]\n",
    "    \n",
    "    def getnumberofalignedspins(self):\n",
    "        NN = self.getnearestneighbourscubic()\n",
    "        a = 0\n",
    "        for nn in NN:\n",
    "            a += self.spin*nn.spin\n",
    "        a = (a+6)/2\n",
    "        return a \n",
    "        "
   ]
  },
  {
   "cell_type": "code",
   "execution_count": 13,
   "id": "b82f2b72",
   "metadata": {},
   "outputs": [],
   "source": [
    "class lattice:\n",
    "    def __init__(self,N1,N2,N3):\n",
    "        self.N1 = N1 # Dimension of the lattice\n",
    "        self.N2 = N2\n",
    "        self.N3 = N3\n",
    "        self.sites = [] # Creating a list to take in the information of sites\n",
    "\n",
    "    def getnumberofsites(self):\n",
    "        return self.N1*self.N2*self.N3\n",
    "    \n",
    "    def populatesites(self,lat):\n",
    "        for i in range(self.N1):\n",
    "            for j in range(self.N2):\n",
    "                for k in range(self.N3):\n",
    "                    self.sites.append(site(lat,i,j,k)) # Assign each site a coordianate\n",
    "\n",
    "    def initialisespins(self): # Set spin for each site\n",
    "        for i in range(self.N1*self.N2*self.N3):\n",
    "            self.sites[i].setrandomspin()\n",
    "\n",
    "    def getlistposition(self,x,y,z):\n",
    "        return x*self.N2*self.N3 + y*self.N3 + z\n",
    "            \n",
    "    def gettotalenergy(self,J, B):\n",
    "        '''\n",
    "        This now calculates the zeeman energy too, and has been reformulated in a simpler way. \n",
    "        '''\n",
    "        E = 0 #meV\n",
    "        for i in range(self.N1):\n",
    "            for j in range(self.N2):\n",
    "                for k in range(self.N3):\n",
    "                    # Why perform a new energy evaluation calculation when you can call your site methods to calculate it, as below\n",
    "                    site0 = self.sites[self.getlistposition(i, j, k)]\n",
    "                    E += site0.getexchangeenergy(J)/2 + site0.getzeemanenergy(B) # divide exchange energies by 2 to account for double counting of spin pairs\n",
    "                    # There is no need to do 3 separate sets of nested for loops, you can perform the same operation within 1, as I have done now\n",
    "                    # Note that the .getexchangeenergy() method calculates exchange energies with neighbours along all 3 axes in 1 go.\n",
    "        return E\n",
    "    \n",
    "    def pickrandomsite(self):\n",
    "        site_f = rd.randrange(self.N1*self.N2*self.N3)\n",
    "        return site_f\n",
    "    \n",
    "    def filpspin(self,site_f):\n",
    "        self.sites[site_f].flipspin()\n",
    "        \n",
    "    def getmagnetization(self):\n",
    "        M = 0\n",
    "        for i in range(self.N1):\n",
    "            for j in range(self.N2):\n",
    "                for k in range(self.N3):\n",
    "                    M += -self.sites[self.getlistposition(i, j, k)].getspin()\n",
    "        return M/(self.N1*self.N2*self.N3)\n",
    "\n",
    "    def tensorrepresentation(self):\n",
    "        '''\n",
    "        A method returning a tensor representation of the lattice i.e. a 3D array\n",
    "        '''\n",
    "        tensor = np.zeros((self.N1, self.N2, self.N3)) # initialize empty array\n",
    "        for i in range(self.N1):\n",
    "            for j in range(self.N2):\n",
    "                for k in range(self.N3):\n",
    "                    # Why perform a new energy evaluation calculation when you can call your site methods to calculate it, as below\n",
    "                    tensor[i,j,k] = self.sites[self.getlistposition(i, j, k)].getspin()\n",
    "        return tensor\n",
    "\n",
    "    def latticeslice(self, axis = 0, index = 0):\n",
    "        '''\n",
    "        Slices the tensor representation of the lattice at position 'index' along a particular axis\n",
    "        '''\n",
    "        latt = self.tensorrepresentation()\n",
    "        lattslice = latt.take(indices = index, axis = axis)\n",
    "        return lattslice"
   ]
  },
  {
   "cell_type": "code",
   "execution_count": 14,
   "id": "01f054a8",
   "metadata": {},
   "outputs": [
    {
     "name": "stdout",
     "output_type": "stream",
     "text": [
      "1789.5815999999882\n"
     ]
    },
    {
     "name": "stderr",
     "output_type": "stream",
     "text": [
      "<ipython-input-14-df1f52430166>:56: RuntimeWarning: divide by zero encountered in log\n",
      "  CL_1 = -1/np.log(CF)\n",
      "<ipython-input-14-df1f52430166>:56: RuntimeWarning: divide by zero encountered in double_scalars\n",
      "  CL_1 = -1/np.log(CF)\n"
     ]
    },
    {
     "name": "stdout",
     "output_type": "stream",
     "text": [
      "Runtime:  8.332524\n",
      "-23.65982328888739\n"
     ]
    }
   ],
   "source": [
    "starttime = time()\n",
    "\n",
    "MCS = 1000 # MC steps per temperature\n",
    "J = 10 # meV\n",
    "T = 500 # Kelvin\n",
    "T_p = 0.97\n",
    "kB = 8.617e-2 # meV/K\n",
    "g = 1\n",
    "muB = 5.788e-2 # meV/T\n",
    "B = 2 #T\n",
    "\n",
    "MCA_plot_1 = []\n",
    "T_plot_1 = []\n",
    "E_plot_1 = []\n",
    "Mag_plot_1 = []\n",
    "CL_plot_1 = []\n",
    "\n",
    "# set up the sites\n",
    "lat1 = lattice(30,30,30) # set up the size of lattice\n",
    "lat1.populatesites(lat1)     # Assign each site a coordinate\n",
    "lat1.initialisespins()   # Assign each site a random spin\n",
    "slc0 = lat1.latticeslice() # print lattice slice to check random initial config\n",
    "E_i = lat1.gettotalenergy(J,B) # get initial energy per site of the system\n",
    "print(E_i)\n",
    "NoS = lat1.getnumberofsites()\n",
    "E_1 = E_i/NoS\n",
    "\n",
    "while (T>0.05):\n",
    "    \n",
    "    MCA = 0    # Initialise MC accepts\n",
    "    Mag_1 = 0  # Initialise Magnetization\n",
    "    AS_1 = 0 # Initialise number of aligned spins\n",
    "    #CF_w = []\n",
    "    #CF_avg_1 = []\n",
    "    #CF = 0\n",
    "    cs = lat1.pickrandomsite() # pick a random site to calculate correlation length\n",
    "    \n",
    "    for i in range(MCS):\n",
    "        fs = lat1.pickrandomsite() # pick a random site to flip its spin\n",
    "        E_b = lat1.sites[fs].getsiteenergy(J,B) # Preflip energy of the site\n",
    "        lat1.filpspin(fs) # flip spin\n",
    "        E_a = lat1.sites[fs].getsiteenergy(J,B) # Postflip energy of the site\n",
    "        dE = E_a - E_b     \n",
    "        \n",
    "        if dE <= 0 or np.exp(-dE/(kB*T)) > rd.random():\n",
    "            E_1 += dE/NoS\n",
    "            MCA += 1 # MC Accepts\n",
    "            \n",
    "            # correlation length\n",
    "            AS_1 += lat1.sites[cs].getnumberofalignedspins() # calculate the number of aligned sites\n",
    "            \n",
    "        else:\n",
    "            lat1.filpspin(fs) # flip the spin back\n",
    "    \n",
    "    CF = AS_1/(6*MCA) # calculate the correlation function\n",
    "    CL_1 = -1/np.log(CF)\n",
    "    Mag_1 = lat1.getmagnetization() # magnetization of the system\n",
    "    \n",
    "    MCA_plot_1.append(MCA)\n",
    "    T_plot_1.append(T)\n",
    "    E_plot_1.append(E_1)\n",
    "    Mag_plot_1.append(Mag_1)\n",
    "    CL_plot_1.append(CL_1)\n",
    "    \n",
    "    T = T_p * T\n",
    "    \n",
    "print (\"Runtime:  %.6f\"  %(time()-starttime))\n",
    "slc1 = lat1.latticeslice()\n",
    "print(E_1)"
   ]
  },
  {
   "cell_type": "code",
   "execution_count": 15,
   "id": "a6878592",
   "metadata": {},
   "outputs": [
    {
     "data": {
      "image/png": "[encoded data removed]",
      "text/plain": [
       "<Figure size 432x288 with 1 Axes>"
      ]
     },
     "metadata": {
      "needs_background": "light"
     },
     "output_type": "display_data"
    }
   ],
   "source": [
    "plt.close('all')\n",
    "plt.figure()\n",
    "plt.plot(T_plot_1,CL_plot_1,'ok')\n",
    "#plt.gca().invert_xaxis()\n",
    "plt.xlabel('T / Kelvin')\n",
    "plt.ylabel('Correlation')\n",
    "#plt.xlim([1,0])\n",
    "plt.show()"
   ]
  },
  {
   "cell_type": "code",
   "execution_count": 16,
   "id": "5252c135",
   "metadata": {},
   "outputs": [
    {
     "data": {
      "image/png": "[encoded data removed]",
      "text/plain": [
       "<Figure size 432x288 with 2 Axes>"
      ]
     },
     "metadata": {
      "needs_background": "light"
     },
     "output_type": "display_data"
    }
   ],
   "source": [
    "fig, ax1 = plt.subplots()\n",
    "\n",
    "color = 'tab:red'\n",
    "ax1.set_xlabel('T / Kelvin')\n",
    "ax1.set_ylabel('MC Accepts', color=color)\n",
    "ax1.plot(T_plot_1,MCA_plot_1, color=color, label=\"MC Accepts\")\n",
    "ax1.tick_params(axis='y', labelcolor=color)\n",
    "ax1.legend(loc=\"best\",frameon=False)\n",
    "ax2 = ax1.twinx()  # instantiate a second axes that shares the same x-axis\n",
    "\n",
    "color = 'tab:blue'\n",
    "ax2.set_ylabel('E / meV', color=color)  # we already handled the x-label with ax1\n",
    "ax2.plot(T_plot_1,E_plot_1, color=color, label=\"Energy per site\") \n",
    "ax2.tick_params(axis='y', labelcolor=color)\n",
    "ax2.legend(loc=\"lower center\",frameon=False)\n",
    "\n",
    "fig.tight_layout()  # otherwise the right y-label is slightly clipped\n",
    "plt.show()"
   ]
  },
  {
   "cell_type": "code",
   "execution_count": 17,
   "id": "31f70b51",
   "metadata": {},
   "outputs": [
    {
     "data": {
      "image/png": "[encoded data removed]",
      "text/plain": [
       "<Figure size 432x288 with 1 Axes>"
      ]
     },
     "metadata": {
      "needs_background": "light"
     },
     "output_type": "display_data"
    }
   ],
   "source": [
    "plt.close('all')\n",
    "plt.figure()\n",
    "plt.plot(T_plot_1,Mag_plot_1,'ok')\n",
    "#plt.gca().invert_xaxis()\n",
    "plt.xlabel('T / Kelvin')\n",
    "plt.ylabel('Magnetization')\n",
    "#plt.xlim([1,0])\n",
    "plt.show()"
   ]
  }
 ],
 "metadata": {
  "kernelspec": {
   "display_name": "Python 3",
   "language": "python",
   "name": "python3"
  },
  "language_info": {
   "codemirror_mode": {
    "name": "ipython",
    "version": 3
   },
   "file_extension": ".py",
   "mimetype": "text/x-python",
   "name": "python",
   "nbconvert_exporter": "python",
   "pygments_lexer": "ipython3",
   "version": "3.8.8"
  },
  "vscode": {
   "interpreter": {
    "hash": "916dbcbb3f70747c44a77c7bcd40155683ae19c65e1c03b4aa3499c5328201f1"
   }
  }
 },
 "nbformat": 4,
 "nbformat_minor": 5
}
